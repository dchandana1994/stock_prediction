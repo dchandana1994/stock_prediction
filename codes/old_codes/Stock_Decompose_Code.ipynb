{
 "cells": [
  {
   "cell_type": "code",
   "execution_count": 1,
   "metadata": {
    "collapsed": false,
    "deletable": true,
    "editable": true
   },
   "outputs": [
    {
     "name": "stderr",
     "output_type": "stream",
     "text": [
      "/usr/local/lib/python3.6/site-packages/statsmodels/compat/pandas.py:56: FutureWarning: The pandas.core.datetools module is deprecated and will be removed in a future version. Please use the pandas.tseries module instead.\n",
      "  from pandas.core import datetools\n"
     ]
    }
   ],
   "source": [
    "import pandas as pd\n",
    "import datetime\n",
    "from dateutil.relativedelta import relativedelta\n",
    "import numpy as np\n",
    "import math\n",
    "import datetime\n",
    "import statsmodels.api as sm\n",
    "from rpy2.robjects.packages import importr\n",
    "from rpy2.rinterface import RRuntimeError\n",
    "from rpy2.rinterface import NARealType\n",
    "import rpy2.robjects as ro\n",
    "from rpy2.robjects import pandas2ri\n",
    "import numpy as np\n",
    "import scipy as sp\n",
    "from sklearn import linear_model\n",
    "from yahoo_finance import Share\n",
    "import pandas_datareader as web\n",
    "from pandas.tseries.offsets import BDay\n",
    "regress = linear_model.LinearRegression(fit_intercept=True)\n",
    "failed_combination={}\n",
    "\n",
    "r_forecast = importr(\"forecast\")\n",
    "stats = importr('stats')\n",
    "tseries = importr('tseries')\n",
    "pandas2ri.activate()\n",
    "r_forecast_obj = importr(\"DemandForecasting\")"
   ]
  },
  {
   "cell_type": "code",
   "execution_count": 2,
   "metadata": {
    "collapsed": true,
    "deletable": true,
    "editable": true
   },
   "outputs": [],
   "source": [
    "def linear_coeff(comb_df):\n",
    "    \n",
    "    X_train = comb_df[['index']]\n",
    "    Y_train = comb_df[['Frequency']]\n",
    "    regress.fit(X_train, Y_train)\n",
    "\n",
    "    ###############Analysis and final output of trend######################\n",
    "\n",
    "    if regress.coef_ > 1:\n",
    "        trend_temp= 'Up-trend Demand'\n",
    "    elif regress.coef_ < -1:\n",
    "        trend_temp = 'Down-trend Demand'\n",
    "    else:\n",
    "        trend_temp= 'Constant Demand'\n",
    "\n",
    "    trend_strength_temp = regress.coef_[0][0]\n",
    "\n",
    "    return trend_temp, trend_strength_temp"
   ]
  },
  {
   "cell_type": "code",
   "execution_count": 7,
   "metadata": {
    "collapsed": false,
    "deletable": true,
    "editable": true
   },
   "outputs": [],
   "source": [
    "start = datetime.datetime(2016,1,1)\n",
    "end = datetime.date.today()\n",
    "Company_Name = \"Tesla\"\n",
    "Company_Code = \"TSLA\"\n",
    "\n",
    "tesla = web.DataReader(Company_Code, \"yahoo\", start, end)"
   ]
  },
  {
   "cell_type": "code",
   "execution_count": 8,
   "metadata": {
    "collapsed": false,
    "deletable": true,
    "editable": true,
    "scrolled": true
   },
   "outputs": [
    {
     "name": "stderr",
     "output_type": "stream",
     "text": [
      "/usr/local/lib/python3.6/site-packages/ipykernel/__main__.py:3: SettingWithCopyWarning: \n",
      "A value is trying to be set on a copy of a slice from a DataFrame.\n",
      "Try using .loc[row_indexer,col_indexer] = value instead\n",
      "\n",
      "See the caveats in the documentation: http://pandas.pydata.org/pandas-docs/stable/indexing.html#indexing-view-versus-copy\n",
      "  app.launch_new_instance()\n"
     ]
    }
   ],
   "source": [
    "typeof = \"Close\"\n",
    "comb_df = tesla[[typeof]]\n",
    "comb_df['Time_Line'] = comb_df.index\n",
    "comb_df = comb_df.rename(columns={typeof: 'Frequency'})\n",
    "comb_df = comb_df.reset_index(drop=True)\n",
    "comb_df['index'] = comb_df.index\n",
    "comb_df['Year'] = comb_df.Time_Line.dt.year\n",
    "comb_df['month'] = comb_df.Time_Line.dt.month"
   ]
  },
  {
   "cell_type": "code",
   "execution_count": 9,
   "metadata": {
    "collapsed": false,
    "deletable": true,
    "editable": true
   },
   "outputs": [
    {
     "name": "stderr",
     "output_type": "stream",
     "text": [
      "/usr/local/lib/python3.6/site-packages/scipy/linalg/basic.py:1018: RuntimeWarning: internal gelsd driver lwork query error, required iwork dimension not returned. This is likely the result of LAPACK bug 0038, fixed in LAPACK 3.2.2 (released July 21, 2010). Falling back to 'gelss' driver.\n",
      "  warnings.warn(mesg, RuntimeWarning)\n"
     ]
    }
   ],
   "source": [
    "data={}\n",
    "trend_strength={}\n",
    "trend={}\n",
    "\n",
    "trend[Company_Name],trend_strength[Company_Name]=linear_coeff(comb_df)"
   ]
  },
  {
   "cell_type": "code",
   "execution_count": 17,
   "metadata": {
    "collapsed": true,
    "deletable": true,
    "editable": true
   },
   "outputs": [],
   "source": [
    "###############################################################################\n",
    "r_skill_print_freq = pandas2ri.py2ri(comb_df)\n",
    "Forecasting_horizon=6\n",
    "r_prediction_period = ro.IntVector([Forecasting_horizon])\n",
    "\n",
    "\n",
    "# try:\n",
    "r_out = r_forecast_obj.hcl_decomposition_stl(r_skill_print_freq)\n",
    "           \n",
    "# except RRuntimeError as e:\n",
    "#     Exceptional_skills.append(comb_str)\n",
    "\n",
    "\n",
    "mat_stl = pandas2ri.ri2py(r_out.rx()[0])\n",
    "df_stl = pd.DataFrame(mat_stl, columns=['Seasonal', 'Trend', 'Reminder'])\n",
    "trend_decomp = np.array(df_stl.Trend)\n",
    "seasonal_decomp = np.array(df_stl.Seasonal)[0:12]\n",
    "                \n",
    "data[Company_Name] = {'date': [datetime.datetime.strptime(temp100.strftime('%Y%m%d'),'%Y%m%d').strftime('%Y/%m/%d') for temp100 in comb_df.Time_Line],'frequency': np.array(comb_df.Frequency).tolist(),\n",
    "                        'seasonal':  seasonal_decomp.tolist(),  \\\n",
    "                        'trend': trend_decomp.tolist(),\\\n",
    "                        'trend_strength': regress.coef_[0][0]\\\n",
    "                    }"
   ]
  },
  {
   "cell_type": "code",
   "execution_count": 19,
   "metadata": {
    "collapsed": false
   },
   "outputs": [
    {
     "data": {
      "text/plain": [
       "dict_keys(['date', 'frequency', 'seasonal', 'trend', 'trend_strength'])"
      ]
     },
     "execution_count": 19,
     "metadata": {},
     "output_type": "execute_result"
    }
   ],
   "source": [
    "data['Tesla'].keys()"
   ]
  },
  {
   "cell_type": "code",
   "execution_count": 23,
   "metadata": {
    "collapsed": false
   },
   "outputs": [
    {
     "data": {
      "image/png": "[encoded data removed]",
      "text/plain": [
       "<matplotlib.figure.Figure at 0x116b725c0>"
      ]
     },
     "metadata": {},
     "output_type": "display_data"
    }
   ],
   "source": [
    "import matplotlib.pyplot as plt\n",
    "plt.plot(data['Tesla']['trend'])\n",
    "plt.show()"
   ]
  },
  {
   "cell_type": "code",
   "execution_count": 24,
   "metadata": {
    "collapsed": false
   },
   "outputs": [
    {
     "data": {
      "text/plain": [
       "0      0.156864\n",
       "1     -1.815186\n",
       "2     -0.567593\n",
       "3     -0.436902\n",
       "4      0.705294\n",
       "5      1.250208\n",
       "6      0.667933\n",
       "7     -1.338168\n",
       "8     -0.282235\n",
       "9      0.671483\n",
       "10     0.938558\n",
       "11     0.049746\n",
       "12     0.156864\n",
       "13    -1.815186\n",
       "14    -0.567593\n",
       "15    -0.436902\n",
       "16     0.705294\n",
       "17     1.250208\n",
       "18     0.667933\n",
       "19    -1.338168\n",
       "20    -0.282235\n",
       "21     0.671483\n",
       "22     0.938558\n",
       "23     0.049746\n",
       "24     0.156864\n",
       "25    -1.815186\n",
       "26    -0.567593\n",
       "27    -0.436902\n",
       "28     0.705294\n",
       "29     1.250208\n",
       "         ...   \n",
       "405    0.671483\n",
       "406    0.938558\n",
       "407    0.049746\n",
       "408    0.156864\n",
       "409   -1.815186\n",
       "410   -0.567593\n",
       "411   -0.436902\n",
       "412    0.705294\n",
       "413    1.250208\n",
       "414    0.667933\n",
       "415   -1.338168\n",
       "416   -0.282235\n",
       "417    0.671483\n",
       "418    0.938558\n",
       "419    0.049746\n",
       "420    0.156864\n",
       "421   -1.815186\n",
       "422   -0.567593\n",
       "423   -0.436902\n",
       "424    0.705294\n",
       "425    1.250208\n",
       "426    0.667933\n",
       "427   -1.338168\n",
       "428   -0.282235\n",
       "429    0.671483\n",
       "430    0.938558\n",
       "431    0.049746\n",
       "432    0.156864\n",
       "433   -1.815186\n",
       "434   -0.567593\n",
       "Name: Seasonal, Length: 435, dtype: float64"
      ]
     },
     "execution_count": 24,
     "metadata": {},
     "output_type": "execute_result"
    }
   ],
   "source": [
    "df_stl.Seasonal"
   ]
  },
  {
   "cell_type": "code",
   "execution_count": null,
   "metadata": {
    "collapsed": true,
    "deletable": true,
    "editable": true
   },
   "outputs": [],
   "source": [
    "output ={'source':data}\n",
    "with open(output_file,'wb') as fp:\n",
    "    json.dump(output)"
   ]
  }
 ],
 "metadata": {
  "kernelspec": {
   "display_name": "Python 3",
   "language": "python",
   "name": "python3"
  },
  "language_info": {
   "codemirror_mode": {
    "name": "ipython",
    "version": 3.0
   },
   "file_extension": ".py",
   "mimetype": "text/x-python",
   "name": "python",
   "nbconvert_exporter": "python",
   "pygments_lexer": "ipython3",
   "version": "3.6.1"
  }
 },
 "nbformat": 4,
 "nbformat_minor": 0
}